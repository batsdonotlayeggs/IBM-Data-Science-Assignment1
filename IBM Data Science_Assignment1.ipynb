{
 "cells": [
  {
   "cell_type": "markdown",
   "id": "5d205735-6474-46ac-8465-ee4aa7f22616",
   "metadata": {},
   "source": [
    "# My Jupyter Notebook on IBM Watson Studio"
   ]
  },
  {
   "cell_type": "markdown",
   "id": "57ce9e48-3d99-418a-9b9b-df8bfa9f15f4",
   "metadata": {
    "tags": []
   },
   "source": [
    "<b> Adrian Chan </b>\n",
    "\n",
    "Accountant\n",
    "\n"
   ]
  },
  {
   "cell_type": "markdown",
   "id": "6395ca69-7c9b-4268-b8ca-a8c3c4b9931f",
   "metadata": {},
   "source": [
    "*I am interested in data science because I wish to identify fraud within financial data.*"
   ]
  },
  {
   "cell_type": "markdown",
   "id": "63d7031c-12ae-4853-b0ab-83ea724f1499",
   "metadata": {},
   "source": [
    "### My code is suppost to print \"Odd Number\" for odd numbers and \"Even Number\" for even numbers"
   ]
  },
  {
   "cell_type": "code",
   "execution_count": 6,
   "id": "bcff40fd-770d-4cde-906a-ba3cdea68cd4",
   "metadata": {},
   "outputs": [
    {
     "name": "stdout",
     "output_type": "stream",
     "text": [
      "Odd Number\n"
     ]
    }
   ],
   "source": [
    "def odd_even(x):\n",
    "    if x ==1:\n",
    "        return print(\"Odd Number\")\n",
    "    if x!=1:\n",
    "        if x%2 == 0:\n",
    "            return print(\"Even Number\")\n",
    "        else:\n",
    "            return print(\"Odd Number\")\n",
    "        \n",
    "odd_even(5)"
   ]
  },
  {
   "cell_type": "markdown",
   "id": "304b252f-b75f-4829-8a2b-cd7aeb9ed7e2",
   "metadata": {},
   "source": [
    "<ol> \n",
    "<li>Dog</li>\n",
    "<li>Cat</li>\n",
    "<li>Guinea Pig</li>\n",
    "</ol>\n",
    "\n",
    "<hr>\n",
    "\n",
    "<ul>\n",
    "<li>Fish</li>\n",
    "<li>Eggs</li>\n",
    "<li>Cheese</li>\n",
    "</ul>\n",
    "\n",
    "<hr>\n",
    "\n",
    "<blockquote>This is the end of the notebook</blockquote>\n"
   ]
  }
 ],
 "metadata": {
  "kernelspec": {
   "display_name": "Python 3 (ipykernel)",
   "language": "python",
   "name": "python3"
  },
  "language_info": {
   "codemirror_mode": {
    "name": "ipython",
    "version": 3
   },
   "file_extension": ".py",
   "mimetype": "text/x-python",
   "name": "python",
   "nbconvert_exporter": "python",
   "pygments_lexer": "ipython3",
   "version": "3.7.9"
  }
 },
 "nbformat": 4,
 "nbformat_minor": 5
}
